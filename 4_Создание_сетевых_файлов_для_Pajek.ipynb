{
  "cells": [
    {
      "cell_type": "markdown",
      "source": [
        "# 4. Создание сетевых файлов для Pajek"
      ],
      "metadata": {
        "id": "kLI3MOTqVfUn"
      }
    },
    {
      "cell_type": "markdown",
      "source": [
        "В этом ноутбуке производится трансформацция датафрейма с данными публикаций в TXT-файлы, содержащие вершины сети и связи между ними.\n",
        "\n",
        "План работы:\n",
        "- Создается список уникальных новых ID, каждому из них присуждается условный порядковый номер\n",
        "- Итеративно анализируются строки датафрейма с публикациями, в итоговый файл записываются соответствующие указанным в строке публикации новым ID её авторов порядковые номера из списка выше\n",
        "- Результаты сохраняются в TXT-формате"
      ],
      "metadata": {
        "id": "ERFMEVqoVjig"
      }
    },
    {
      "cell_type": "code",
      "execution_count": null,
      "metadata": {
        "id": "cjr0mSVXVeTv"
      },
      "outputs": [],
      "source": [
        "import pandas as pd\n",
        "import numpy as np\n",
        "from tqdm import tqdm"
      ]
    },
    {
      "cell_type": "code",
      "execution_count": null,
      "metadata": {
        "id": "G8ySvmbVVeTx"
      },
      "outputs": [],
      "source": [
        "df = pd.read_parquet('/Users/vasilisavashenko/Downloads/df7.parquet')"
      ]
    },
    {
      "cell_type": "code",
      "execution_count": null,
      "metadata": {
        "id": "Vic6AVTsVeTy",
        "outputId": "5a6465a8-9424-43b8-d6fe-8a2417329143"
      },
      "outputs": [
        {
          "data": {
            "text/plain": [
              "37791"
            ]
          },
          "execution_count": 3,
          "metadata": {},
          "output_type": "execute_result"
        }
      ],
      "source": [
        "new_ids = []\n",
        "for i in df.columns:\n",
        "    if 'new_id' in i:\n",
        "        new_ids += df[i].to_list()\n",
        "new_ids = list(set(new_ids))\n",
        "len(new_ids)"
      ]
    },
    {
      "cell_type": "code",
      "execution_count": null,
      "metadata": {
        "id": "yjJc7MWqVeTy"
      },
      "outputs": [],
      "source": [
        "new_ids.remove('N/A')"
      ]
    },
    {
      "cell_type": "code",
      "execution_count": null,
      "metadata": {
        "id": "uPzWGJO7VeTy",
        "outputId": "eb560b05-78d8-42c8-d630-13fdcc904a61"
      },
      "outputs": [
        {
          "data": {
            "text/html": [
              "<div>\n",
              "<style scoped>\n",
              "    .dataframe tbody tr th:only-of-type {\n",
              "        vertical-align: middle;\n",
              "    }\n",
              "\n",
              "    .dataframe tbody tr th {\n",
              "        vertical-align: top;\n",
              "    }\n",
              "\n",
              "    .dataframe thead th {\n",
              "        text-align: right;\n",
              "    }\n",
              "</style>\n",
              "<table border=\"1\" class=\"dataframe\">\n",
              "  <thead>\n",
              "    <tr style=\"text-align: right;\">\n",
              "      <th></th>\n",
              "      <th>number</th>\n",
              "      <th>vertice</th>\n",
              "    </tr>\n",
              "  </thead>\n",
              "  <tbody>\n",
              "    <tr>\n",
              "      <th>0</th>\n",
              "      <td>1</td>\n",
              "      <td>15485609</td>\n",
              "    </tr>\n",
              "    <tr>\n",
              "      <th>1</th>\n",
              "      <td>2</td>\n",
              "      <td>15488335</td>\n",
              "    </tr>\n",
              "    <tr>\n",
              "      <th>2</th>\n",
              "      <td>3</td>\n",
              "      <td>15488853</td>\n",
              "    </tr>\n",
              "    <tr>\n",
              "      <th>3</th>\n",
              "      <td>4</td>\n",
              "      <td>15500786</td>\n",
              "    </tr>\n",
              "    <tr>\n",
              "      <th>4</th>\n",
              "      <td>5</td>\n",
              "      <td>15501422</td>\n",
              "    </tr>\n",
              "    <tr>\n",
              "      <th>5</th>\n",
              "      <td>6</td>\n",
              "      <td>15502590</td>\n",
              "    </tr>\n",
              "    <tr>\n",
              "      <th>6</th>\n",
              "      <td>7</td>\n",
              "      <td>15502840</td>\n",
              "    </tr>\n",
              "    <tr>\n",
              "      <th>7</th>\n",
              "      <td>8</td>\n",
              "      <td>15507187</td>\n",
              "    </tr>\n",
              "    <tr>\n",
              "      <th>8</th>\n",
              "      <td>9</td>\n",
              "      <td>15510295</td>\n",
              "    </tr>\n",
              "    <tr>\n",
              "      <th>9</th>\n",
              "      <td>10</td>\n",
              "      <td>15511500</td>\n",
              "    </tr>\n",
              "  </tbody>\n",
              "</table>\n",
              "</div>"
            ],
            "text/plain": [
              "   number   vertice\n",
              "0       1  15485609\n",
              "1       2  15488335\n",
              "2       3  15488853\n",
              "3       4  15500786\n",
              "4       5  15501422\n",
              "5       6  15502590\n",
              "6       7  15502840\n",
              "7       8  15507187\n",
              "8       9  15510295\n",
              "9      10  15511500"
            ]
          },
          "execution_count": 7,
          "metadata": {},
          "output_type": "execute_result"
        }
      ],
      "source": [
        "vertices = df['id'].to_list() + new_ids\n",
        "\n",
        "vv = pd.DataFrame()\n",
        "vv['number'] = list(range(1, len(vertices)+1))\n",
        "vv['vertice'] = vertices\n",
        "vv.head(10)"
      ]
    },
    {
      "cell_type": "code",
      "execution_count": null,
      "metadata": {
        "id": "JqP3FDcUVeTz"
      },
      "outputs": [],
      "source": [
        "def get_index(search):\n",
        "    return vv.loc[vv.isin([search]).any(axis=1)].index.tolist()[0]+1"
      ]
    },
    {
      "cell_type": "code",
      "execution_count": null,
      "metadata": {
        "id": "B8fPmKWYVeTz"
      },
      "outputs": [],
      "source": [
        "idd = [m for m in df.columns if 'new_id' in m]\n",
        "arcs = pd.DataFrame(columns = ['v1', 'v2'])\n",
        "\n",
        "for i in tqdm(df.index):\n",
        "    for m in idd:\n",
        "        if df[idd][m][i]!='N/A':\n",
        "            arcs = arcs.append({'v1': i+1,\n",
        "                                'v2': get_index(df[m][i])}, ignore_index = True)"
      ]
    },
    {
      "cell_type": "code",
      "execution_count": null,
      "metadata": {
        "id": "DMlttpU5VeTz"
      },
      "outputs": [],
      "source": [
        "counter = [i for i in tqdm(vv['number'][75232:]) if i not in arcs['v2'].to_list()]\n",
        "counter"
      ]
    },
    {
      "cell_type": "code",
      "execution_count": null,
      "metadata": {
        "id": "fMQ2uBnTVeTz"
      },
      "outputs": [],
      "source": [
        "np.savetxt(r'/Users/vasilisavashenko/Downloads/arc+works4.txt', arcs.values, fmt='%s')\n",
        "np.savetxt(r'/Users/vasilisavashenko/Downloads/vertices_fin3.txt', vv.values, fmt='%s')"
      ]
    }
  ],
  "metadata": {
    "kernelspec": {
      "display_name": "Python 3",
      "language": "python",
      "name": "python3"
    },
    "language_info": {
      "codemirror_mode": {
        "name": "ipython",
        "version": 3
      },
      "file_extension": ".py",
      "mimetype": "text/x-python",
      "name": "python",
      "nbconvert_exporter": "python",
      "pygments_lexer": "ipython3",
      "version": "3.7.4"
    },
    "colab": {
      "provenance": []
    }
  },
  "nbformat": 4,
  "nbformat_minor": 0
}