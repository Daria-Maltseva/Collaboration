{
  "cells": [
    {
      "cell_type": "code",
      "execution_count": null,
      "metadata": {
        "id": "WyjTKk-LylgV"
      },
      "outputs": [],
      "source": [
        "import requests\n",
        "from urllib.parse import urlencode\n",
        "import pandas as pd\n",
        "import urllib\n",
        "import json\n",
        "from tqdm import tqdm\n",
        "import re"
      ]
    },
    {
      "cell_type": "markdown",
      "metadata": {
        "id": "IQ9a5h-wylgW"
      },
      "source": [
        "В ячейке ниже можно получить файл с яндекс диска без предварительных скачиваний \\\n",
        "Настоятельно рекомендую пользоваться таким форматом, чтобы впоследствии любой код можно было запускать без предварительного поиска и локального скачивания файлов."
      ]
    },
    {
      "cell_type": "code",
      "execution_count": null,
      "metadata": {
        "id": "GUPj58GTylgX"
      },
      "outputs": [],
      "source": [
        "folder_url = 'YANDEX DISK FOLDER LINK' #ссылка на папку\n",
        "file_url = 'FILE NAME' #тут должно быть имя файла\n",
        "url = 'https://cloud-api.yandex.net/v1/disk/public/resources/download' + '?public_key=' + urllib.parse.quote(folder_url) + '&path=/' + urllib.parse.quote(file_url)\n",
        "\n",
        "r = requests.get(url)\n",
        "h = json.loads(r.text)['href']\n",
        "df = pd.read_excel(h)"
      ]
    },
    {
      "cell_type": "markdown",
      "metadata": {
        "id": "Lr0a5EqzylgX"
      },
      "source": [
        "План работы следующий:\n",
        "\n",
        "- составляю общий плоский список всех аффилиаций\n",
        "- рассматриваю варианты их сокращения до аффилаций\n",
        "- создаю словарь сокращений"
      ]
    },
    {
      "cell_type": "code",
      "execution_count": null,
      "metadata": {
        "id": "Amqk6tXcylgY"
      },
      "outputs": [],
      "source": [
        "affiliations = []\n",
        "for i in df.columns:\n",
        "    if 'affiliation' in i: #в наших данных все колонки, связанные с информацией об аффилиациях содержат слово \"affiliation\", поэтому колонки фильтруются по этому признаку\n",
        "        affiliations.append(i)\n",
        "affiliations"
      ]
    },
    {
      "cell_type": "code",
      "execution_count": null,
      "metadata": {
        "id": "5L7Cig6Sylgb",
        "outputId": "7f1fd231-c254-424e-de5a-8f9f7a6f86aa"
      },
      "outputs": [
        {
          "data": {
            "text/html": [
              "<div>\n",
              "<style scoped>\n",
              "    .dataframe tbody tr th:only-of-type {\n",
              "        vertical-align: middle;\n",
              "    }\n",
              "\n",
              "    .dataframe tbody tr th {\n",
              "        vertical-align: top;\n",
              "    }\n",
              "\n",
              "    .dataframe thead th {\n",
              "        text-align: right;\n",
              "    }\n",
              "</style>\n",
              "<table border=\"1\" class=\"dataframe\">\n",
              "  <thead>\n",
              "    <tr style=\"text-align: right;\">\n",
              "      <th></th>\n",
              "      <th>author_1_affiliation_id</th>\n",
              "      <th>author_1_ru affiliation</th>\n",
              "      <th>author_1_eng affiliation</th>\n",
              "      <th>author_2_affiliation_id</th>\n",
              "      <th>author_2_ru affiliation</th>\n",
              "      <th>author_2_eng affiliation</th>\n",
              "      <th>author_3_affiliation_id</th>\n",
              "      <th>author_3_ru affiliation</th>\n",
              "      <th>author_3_eng affiliation</th>\n",
              "      <th>author_4_affiliation_id</th>\n",
              "      <th>...</th>\n",
              "      <th>author_5_eng affiliation</th>\n",
              "      <th>author_6_affiliation_id</th>\n",
              "      <th>author_6_ru affiliation</th>\n",
              "      <th>author_6_eng affiliation</th>\n",
              "      <th>author_7_affiliation_id</th>\n",
              "      <th>author_7_ru affiliation</th>\n",
              "      <th>author_7_eng affiliation</th>\n",
              "      <th>author_8_affiliation_id</th>\n",
              "      <th>author_8_ru affiliation</th>\n",
              "      <th>author_8_eng affiliation</th>\n",
              "    </tr>\n",
              "  </thead>\n",
              "  <tbody>\n",
              "    <tr>\n",
              "      <td>0</td>\n",
              "      <td>[7113, 7113]</td>\n",
              "      <td>['Белгородский государственный технологический...</td>\n",
              "      <td>['Belgorod State Technological University name...</td>\n",
              "      <td>[364, none]</td>\n",
              "      <td>['Новомосковский институт РХТУ им. Д.И. Мендел...</td>\n",
              "      <td>none</td>\n",
              "      <td>[none, none]</td>\n",
              "      <td>none</td>\n",
              "      <td>['Novomoskovsk Institute RCTU named after D.I....</td>\n",
              "      <td>[none, none]</td>\n",
              "      <td>...</td>\n",
              "      <td>none</td>\n",
              "      <td>[none, none]</td>\n",
              "      <td>none</td>\n",
              "      <td>none</td>\n",
              "      <td>[none, none]</td>\n",
              "      <td>none</td>\n",
              "      <td>none</td>\n",
              "      <td>[none, none]</td>\n",
              "      <td>none</td>\n",
              "      <td>none</td>\n",
              "    </tr>\n",
              "    <tr>\n",
              "      <td>1</td>\n",
              "      <td>[none, none]</td>\n",
              "      <td>none</td>\n",
              "      <td>none</td>\n",
              "      <td>[none, none]</td>\n",
              "      <td>none</td>\n",
              "      <td>none</td>\n",
              "      <td>[none, none]</td>\n",
              "      <td>none</td>\n",
              "      <td>none</td>\n",
              "      <td>[none, none]</td>\n",
              "      <td>...</td>\n",
              "      <td>none</td>\n",
              "      <td>[none, none]</td>\n",
              "      <td>none</td>\n",
              "      <td>none</td>\n",
              "      <td>[none, none]</td>\n",
              "      <td>none</td>\n",
              "      <td>none</td>\n",
              "      <td>[none, none]</td>\n",
              "      <td>none</td>\n",
              "      <td>none</td>\n",
              "    </tr>\n",
              "    <tr>\n",
              "      <td>2</td>\n",
              "      <td>[340, none]</td>\n",
              "      <td>['Белгородский государственный университет']</td>\n",
              "      <td>none</td>\n",
              "      <td>[none, none]</td>\n",
              "      <td>none</td>\n",
              "      <td>none</td>\n",
              "      <td>[none, none]</td>\n",
              "      <td>none</td>\n",
              "      <td>none</td>\n",
              "      <td>[none, none]</td>\n",
              "      <td>...</td>\n",
              "      <td>none</td>\n",
              "      <td>[none, none]</td>\n",
              "      <td>none</td>\n",
              "      <td>none</td>\n",
              "      <td>[none, none]</td>\n",
              "      <td>none</td>\n",
              "      <td>none</td>\n",
              "      <td>[none, none]</td>\n",
              "      <td>none</td>\n",
              "      <td>none</td>\n",
              "    </tr>\n",
              "    <tr>\n",
              "      <td>3</td>\n",
              "      <td>[210, none]</td>\n",
              "      <td>['Кубанский государственный университет']</td>\n",
              "      <td>none</td>\n",
              "      <td>[none, none]</td>\n",
              "      <td>none</td>\n",
              "      <td>none</td>\n",
              "      <td>[none, none]</td>\n",
              "      <td>none</td>\n",
              "      <td>none</td>\n",
              "      <td>[none, none]</td>\n",
              "      <td>...</td>\n",
              "      <td>none</td>\n",
              "      <td>[none, none]</td>\n",
              "      <td>none</td>\n",
              "      <td>none</td>\n",
              "      <td>[none, none]</td>\n",
              "      <td>none</td>\n",
              "      <td>none</td>\n",
              "      <td>[none, none]</td>\n",
              "      <td>none</td>\n",
              "      <td>none</td>\n",
              "    </tr>\n",
              "    <tr>\n",
              "      <td>4</td>\n",
              "      <td>[2541, none]</td>\n",
              "      <td>['МГУ им. М.В. Ломоносова?']</td>\n",
              "      <td>none</td>\n",
              "      <td>[none, none]</td>\n",
              "      <td>none</td>\n",
              "      <td>none</td>\n",
              "      <td>[none, none]</td>\n",
              "      <td>none</td>\n",
              "      <td>none</td>\n",
              "      <td>[none, none]</td>\n",
              "      <td>...</td>\n",
              "      <td>none</td>\n",
              "      <td>[none, none]</td>\n",
              "      <td>none</td>\n",
              "      <td>none</td>\n",
              "      <td>[none, none]</td>\n",
              "      <td>none</td>\n",
              "      <td>none</td>\n",
              "      <td>[none, none]</td>\n",
              "      <td>none</td>\n",
              "      <td>none</td>\n",
              "    </tr>\n",
              "  </tbody>\n",
              "</table>\n",
              "<p>5 rows × 24 columns</p>\n",
              "</div>"
            ],
            "text/plain": [
              "  author_1_affiliation_id                            author_1_ru affiliation  \\\n",
              "0            [7113, 7113]  ['Белгородский государственный технологический...   \n",
              "1            [none, none]                                               none   \n",
              "2             [340, none]       ['Белгородский государственный университет']   \n",
              "3             [210, none]          ['Кубанский государственный университет']   \n",
              "4            [2541, none]                       ['МГУ им. М.В. Ломоносова?']   \n",
              "\n",
              "                            author_1_eng affiliation author_2_affiliation_id  \\\n",
              "0  ['Belgorod State Technological University name...             [364, none]   \n",
              "1                                               none            [none, none]   \n",
              "2                                               none            [none, none]   \n",
              "3                                               none            [none, none]   \n",
              "4                                               none            [none, none]   \n",
              "\n",
              "                             author_2_ru affiliation author_2_eng affiliation  \\\n",
              "0  ['Новомосковский институт РХТУ им. Д.И. Мендел...                     none   \n",
              "1                                               none                     none   \n",
              "2                                               none                     none   \n",
              "3                                               none                     none   \n",
              "4                                               none                     none   \n",
              "\n",
              "  author_3_affiliation_id author_3_ru affiliation  \\\n",
              "0            [none, none]                    none   \n",
              "1            [none, none]                    none   \n",
              "2            [none, none]                    none   \n",
              "3            [none, none]                    none   \n",
              "4            [none, none]                    none   \n",
              "\n",
              "                            author_3_eng affiliation author_4_affiliation_id  \\\n",
              "0  ['Novomoskovsk Institute RCTU named after D.I....            [none, none]   \n",
              "1                                               none            [none, none]   \n",
              "2                                               none            [none, none]   \n",
              "3                                               none            [none, none]   \n",
              "4                                               none            [none, none]   \n",
              "\n",
              "   ... author_5_eng affiliation author_6_affiliation_id  \\\n",
              "0  ...                     none            [none, none]   \n",
              "1  ...                     none            [none, none]   \n",
              "2  ...                     none            [none, none]   \n",
              "3  ...                     none            [none, none]   \n",
              "4  ...                     none            [none, none]   \n",
              "\n",
              "  author_6_ru affiliation author_6_eng affiliation author_7_affiliation_id  \\\n",
              "0                    none                     none            [none, none]   \n",
              "1                    none                     none            [none, none]   \n",
              "2                    none                     none            [none, none]   \n",
              "3                    none                     none            [none, none]   \n",
              "4                    none                     none            [none, none]   \n",
              "\n",
              "  author_7_ru affiliation author_7_eng affiliation author_8_affiliation_id  \\\n",
              "0                    none                     none            [none, none]   \n",
              "1                    none                     none            [none, none]   \n",
              "2                    none                     none            [none, none]   \n",
              "3                    none                     none            [none, none]   \n",
              "4                    none                     none            [none, none]   \n",
              "\n",
              "  author_8_ru affiliation author_8_eng affiliation  \n",
              "0                    none                     none  \n",
              "1                    none                     none  \n",
              "2                    none                     none  \n",
              "3                    none                     none  \n",
              "4                    none                     none  \n",
              "\n",
              "[5 rows x 24 columns]"
            ]
          },
          "execution_count": 82,
          "metadata": {},
          "output_type": "execute_result"
        }
      ],
      "source": [
        "#создаю датасет сугубо из колонок с информацией по аффилиациям\n",
        "af = pd.DataFrame()\n",
        "for i in affiliations:\n",
        "        af[i] = df[i]\n",
        "af.head()"
      ]
    },
    {
      "cell_type": "markdown",
      "source": [
        "# Шаг 0: Предварительная очистка данных"
      ],
      "metadata": {
        "id": "FT8fSaQR2DoA"
      }
    },
    {
      "cell_type": "markdown",
      "metadata": {
        "id": "2bps0ZKuylgb"
      },
      "source": [
        "- Чистим id аффилиаций от всех ненужных знаков\n",
        "- При помощи регулярных выражений оставляю только числовые значения\n",
        "- получившиеся после регулярного выражения пустые поля заполняю 'none'"
      ]
    },
    {
      "cell_type": "code",
      "execution_count": null,
      "metadata": {
        "id": "C1HgyG-Uylgb"
      },
      "outputs": [],
      "source": [
        "ids = [a for a in affiliations if 'id' in a] # список колонок, содержащих информацию об аффилиациях, в которых содержится информация об ID\n",
        "for a in ids\n",
        "        for m in tqdm(range(len(af[a]))):\n",
        "            value = af[a][m].split(',') # на случай множественных аффилиаций, перечисленных через запятую: value - список всех элементов в ячейке, разделенных запятой\n",
        "\n",
        "            new_value = []\n",
        "            for v in value:\n",
        "                try:\n",
        "                    v = re.sub(\"[^0-9]\", \"\", v) # для каждого элемента в списке value удаляются нечисловые значения\n",
        "                    new_value.append(v)\n",
        "                except:\n",
        "                    v = v.strip(\"'\").strip(\"[\").strip(\"]\")\n",
        "                    new_value.append(v)\n",
        "\n",
        "            for i in range(len(new_value)):\n",
        "                if new_value[i] == '': #если значение пустое, присуждаем 'none'\n",
        "                    new_value[i] = 'none'\n",
        "\n",
        "            af[a][m] = new_value"
      ]
    },
    {
      "cell_type": "markdown",
      "metadata": {
        "id": "wFhQIQ_Bylgc"
      },
      "source": [
        "Та же обработка применяется к названиям аффилиаций"
      ]
    },
    {
      "cell_type": "code",
      "execution_count": null,
      "metadata": {
        "id": "PdGpe-x2ylgc"
      },
      "outputs": [],
      "source": [
        "af_train = af.copy()"
      ]
    },
    {
      "cell_type": "code",
      "execution_count": null,
      "metadata": {
        "id": "e1tM5c1yylgc"
      },
      "outputs": [],
      "source": [
        "affs = [a for a in affiliations if 'id' not in a] # выделяю колонки, содержащие названия аффилиаций\n",
        "for a in affs:\n",
        "        for m in tqdm(range(len(af_train[a]))):\n",
        "            if \"', '\" in af_train[a][m]: # проверяю, есть ли внутри списка запятая между элементами, чтобы определить длину списка\n",
        "                value = af_train[a][m].split(\"', '\")\n",
        "\n",
        "            else:\n",
        "                value = [af_train[a][m]]\n",
        "\n",
        "            for v in range(len(value)):\n",
        "                    value[v] = value[v].strip(\"[\").strip(\"'\").strip(\"]\").strip(\"'\") #очищаю названия аффилиаций от нежеланных спец. символов\n",
        "\n",
        "            af_train[a][m] = value"
      ]
    },
    {
      "cell_type": "code",
      "execution_count": null,
      "metadata": {
        "id": "2t64A6Hhylgd"
      },
      "outputs": [],
      "source": [
        "rus = [a for a in affiliations if 'ru' in a] #только колонки с информацией об аффилиациях на русском\n",
        "rus_af = []\n",
        "for i in rus:\n",
        "    rus_af.append(af_train[i].to_list())\n",
        "rus_af = sum(rus_af, []) #объединенный список всех аффилиаций на русском языке (всех значений колонок из rus)"
      ]
    },
    {
      "cell_type": "code",
      "execution_count": null,
      "metadata": {
        "id": "Z5E3mGYIylgd"
      },
      "outputs": [],
      "source": [
        "uniq_rus_af = list(set(rus_af))\n",
        "pd.Series(uniq_rus_af).to_excel('all_affs_ru.xlsx')"
      ]
    },
    {
      "cell_type": "code",
      "execution_count": null,
      "metadata": {
        "id": "CcOoH4aFylgd"
      },
      "outputs": [],
      "source": [
        "ru_to_id = {} #инициализирую словарь, связывающий русские названия аффилиаций с их ID\n",
        "for i in uniq_rus_af:\n",
        "    ru_to_id[i] = []\n",
        "\n",
        "ru_to_eng = {} #инициализирую словарь, связывающий русские названия аффилиаций с их англоязычными названиями\n",
        "for i in uniq_rus_af:\n",
        "    ru_to_eng[i] = []"
      ]
    },
    {
      "cell_type": "markdown",
      "metadata": {
        "id": "1gpeOB3jylgd"
      },
      "source": [
        "# Шаг 1: Работа с ID аффилиаций"
      ]
    },
    {
      "cell_type": "markdown",
      "metadata": {
        "id": "d0hGnZvWylgd"
      },
      "source": [
        "Сначала создаю словарь, где ключи это аффилиации на русском, а их значения - списки, в которые будут добавляться ID"
      ]
    },
    {
      "cell_type": "code",
      "execution_count": null,
      "metadata": {
        "id": "jS6z5wqTylge"
      },
      "outputs": [],
      "source": [
        "for num in range(1,9):\n",
        "    for i in tqdm(range(len(af_train))):\n",
        "        for l in range(len(af_train['author_{}_ru affiliation'.format(num)][i])):\n",
        "            ru_to_id[af_train['author_{}_ru affiliation'.format(num)][i][l]].append(\n",
        "                af_train['author_{}_affiliation_id'.format(num)][i][l]\n",
        "            )"
      ]
    },
    {
      "cell_type": "code",
      "execution_count": null,
      "metadata": {
        "id": "uJjfAGgOylge"
      },
      "outputs": [],
      "source": [
        "for i in ru_to_id.keys():\n",
        "    ru_to_id[i] = list(set(ru_to_id[i]))"
      ]
    },
    {
      "cell_type": "markdown",
      "source": [
        "Теперь в словаре ru_to_id хранится для каждого русскоязычного названия аффилиации перечень ID с которыми оно встречалось\\\n",
        "Это позволяет:\n",
        "- выявить ошибки в данных (аффилиации с несколькими ID)\n",
        "- выявить разные написания одной и той же аффилиации за счет общности ID"
      ],
      "metadata": {
        "id": "8QRq7jJe30mu"
      }
    },
    {
      "cell_type": "code",
      "execution_count": null,
      "metadata": {
        "id": "uyeToOMEylge",
        "outputId": "01078163-cfbf-42d7-a14a-69e141541742"
      },
      "outputs": [
        {
          "name": "stdout",
          "output_type": "stream",
          "text": [
            "['ГАОУ ВО ЛО «Ленинградский государственный университет имени А.С. Пушкина»', ['2149', '190']]\n"
          ]
        }
      ],
      "source": [
        "# проверяем, что длина всех значений в словаре не больше 1 (в противном случае аффилиация имеет несколько ID)\n",
        "for i in ru_to_id.keys():\n",
        "    if len(ru_to_id[i])>1:\n",
        "        try:\n",
        "            ru_to_id[i].remove('none')\n",
        "        except:\n",
        "            print([i, ru_to_id[i]])"
      ]
    },
    {
      "cell_type": "code",
      "execution_count": null,
      "metadata": {
        "id": "KQmK8RDFylge"
      },
      "outputs": [],
      "source": [
        "# для ручного анализа выводятся аффилиации без ID\n",
        "# на этом рано останавливаться, следует проверить, не имеют ли эти аффилиации общих переводов / ID английского перевода\n",
        "# на текущий момент 5000 аффилиаций из 18 000 не имеют ID\n",
        "\n",
        "counter = 0\n",
        "for i in ru_to_id.keys():\n",
        "    if ru_to_id[i] == ['none']:\n",
        "        counter +=1\n",
        "        print([i, ru_to_id[i]])\n",
        "print(counter)"
      ]
    },
    {
      "cell_type": "markdown",
      "metadata": {
        "id": "IFPqZ3n9ylge"
      },
      "source": [
        "#Шаг 2: Работа с английским переводом аффилиаций"
      ]
    },
    {
      "cell_type": "markdown",
      "source": [
        "В словарь ru_to_eng присоединяются списком значения англоязычных переводов русских названий аффилиации"
      ],
      "metadata": {
        "id": "IAIWlvmE5o8l"
      }
    },
    {
      "cell_type": "code",
      "execution_count": null,
      "metadata": {
        "id": "S1y5ECPsylge"
      },
      "outputs": [],
      "source": [
        "for num in range(1,9):\n",
        "    for i in range(len(af_train)):\n",
        "        for l in range(len(af_train['author_{}_ru affiliation'.format(num)][i])):\n",
        "            try:\n",
        "                ru_to_eng[af_train['author_{}_ru affiliation'.format(num)][i][l]].append(\n",
        "                   af_train['author_{}_eng affiliation'.format(num)][i][l])\n",
        "            except:\n",
        "                print('По-русски:', af_train['author_{}_ru affiliation'.format(num)][i], '\\n',\n",
        "                      'По-английски:', af_train['author_{}_eng affiliation'.format(num)][i], '\\n')"
      ]
    },
    {
      "cell_type": "code",
      "execution_count": null,
      "metadata": {
        "id": "evtsn0nUylgf"
      },
      "outputs": [],
      "source": [
        "for i in ru_to_eng.keys():\n",
        "    ru_to_eng[i] = list(set(ru_to_eng[i])) #оставляем только уникальные значения\n",
        "for i in ru_to_eng.keys():\n",
        "    if ru_to_eng[i] == []:\n",
        "        ru_to_eng[i] = ['none'] #пропуски заполняются none"
      ]
    },
    {
      "cell_type": "markdown",
      "source": [
        "Для удобства создаем новый датафрейм, содержащий колонки\\\n",
        "ru_aff - русскоязычное написание аффилиаций (ключи словаря ru_to_id)\\\n",
        "id - соответствующие им значения id в словаре ru_to_id\\\n",
        "eng_aff - значения словаря ru_to_eng по ключу ru_aff"
      ],
      "metadata": {
        "id": "rPcLh8x26S7s"
      }
    },
    {
      "cell_type": "code",
      "execution_count": null,
      "metadata": {
        "id": "KpO851_dylgf"
      },
      "outputs": [],
      "source": [
        "af_df = pd.DataFrame()\n",
        "af_df['ru_aff'] = list(ru_to_id.keys())\n",
        "af_df['id'] = [ru_to_id[i] for i in ru_to_id.keys()]\n",
        "af_df['eng_aff'] = [ru_to_eng[i] for i in ru_to_id.keys()]"
      ]
    },
    {
      "cell_type": "code",
      "source": [
        "#удостоверяемся, что у каждой аффилиации только один id\n",
        "for i in range(len(af_df['id'])):\n",
        "    try:\n",
        "        assert len(af_df['id'][i]) == 1\n",
        "    except:\n",
        "        print(af_df['id'][i], af_df['ru_aff'][i])"
      ],
      "metadata": {
        "id": "4fzBooUv65-e"
      },
      "execution_count": null,
      "outputs": []
    },
    {
      "cell_type": "code",
      "source": [
        "#проверяем длину списка аффилиаций для каждого автора\n",
        "#если список уникальных id аффилиаций автора длиной > 1 и в этом списке есть 'none' - удаляем 'none', оставляя только не-null значение\n",
        "for num in range(1,9):\n",
        "    for i in tqdm(range(len(af_train))):\n",
        "        af_train['author_{}_affiliation_id'.format(num)][i] = list(set(af_train['author_{}_affiliation_id'.format(num)][i]))\n",
        "        if len(af_train['author_{}_affiliation_id'.format(num)][i])>1:\n",
        "            for m in af_train['author_{}_affiliation_id'.format(num)][i]:\n",
        "                if m == 'none':\n",
        "                    af_train['author_{}_affiliation_id'.format(num)][i].remove(m)"
      ],
      "metadata": {
        "id": "itO26B8t7MHT"
      },
      "execution_count": null,
      "outputs": []
    },
    {
      "cell_type": "markdown",
      "source": [
        "# Шаг 3: Создаем новые id для неидентифицированных аффилиаций"
      ],
      "metadata": {
        "id": "AXzUN9zYACC7"
      }
    },
    {
      "cell_type": "code",
      "source": [
        "#придаем id аффилиаций с разными названиями единое, заранее выбранное вручную для решения проблемы дедупликации\n",
        "#все названия аффилиаций с одним и тем же id были собраны в файл, на основании которого были вручную отобраны корректные наименования институций\n",
        "sev_names = pd.read_excel('id_to_rus_all.xlsx')\n",
        "for num in range(1,8):\n",
        "    for i in tqdm(range(len(af_train))):\n",
        "        for f in range(len(sev_names)):\n",
        "            try:\n",
        "                if sev_names['id'][f] == int(af_train['author_{}_affiliation_id'.format(num)][i][0]):\n",
        "                    af_train['author_{}_ru affiliation'.format(num)][i] = sev_names['vals'][f]\n",
        "                    af_train['author_{}_affiliation_id'.format(num)][i] = [str(sev_names['id'][f])]\n",
        "            except:\n",
        "                pass"
      ],
      "metadata": {
        "id": "oEwwB5tA7wae"
      },
      "execution_count": null,
      "outputs": []
    },
    {
      "cell_type": "code",
      "source": [
        "to_create = [] # список аффилиаций без id\n",
        "for num in range(1,9):\n",
        "    for i in range(len(work_df)):\n",
        "        if work_df['author_{}_affiliation_id'.\n",
        "                   format(num)][i][0]=='none' and work_df['author_{}_ru affiliation'.\n",
        "                                                          format(num)][i] != ['none']:\n",
        "            to_create.append(work_df['author_{}_ru affiliation'.\n",
        "                                                          format(num)][i])"
      ],
      "metadata": {
        "id": "dcA85TScAIf6"
      },
      "execution_count": null,
      "outputs": []
    },
    {
      "cell_type": "code",
      "source": [
        "# создаем датафрейм со всеми неидентифицированными аффилиациями, по дефолту заполняем их новый id как 0 (в отличие от none при отсутствии аффилиации)\n",
        "transfs = pd.DataFrame()\n",
        "transfs['to_transform'] = list(to_create)\n",
        "transfs['new_name'] = ['0']*len(transfs)\n",
        "transfs['id'] = ['0']*len(transfs)"
      ],
      "metadata": {
        "id": "o8c6_cQrAZpS"
      },
      "execution_count": null,
      "outputs": []
    },
    {
      "cell_type": "markdown",
      "source": [
        "По кодовым словам выделяем наиболее частотные аффилиации и добавляем верный ID к их неидентифицированным вариациям"
      ],
      "metadata": {
        "id": "tYTQIpGvA4gw"
      }
    },
    {
      "cell_type": "code",
      "source": [
        "#ранхигс\n",
        "for i in range(len(transfs['to_transform'])):\n",
        "    if transfs['id'][i] == '0':\n",
        "        if 'при президенте' in transfs['to_transform'][i][0].lower() or 'ранхигс' in transfs['to_transform'][i][0].lower() or 'ранх и гс' in transfs['to_transform'][i][0].lower() or 'хигс' in transfs['to_transform'][i][0].lower():\n",
        "            transfs['new_name'][i] = 'РАНХиГС при Президенте РФ'\n",
        "            transfs['id'][i] = '7082'\n",
        "#вшэ\n",
        "for i in range(len(transfs['to_transform'])):\n",
        "    if transfs['id'][i] == '0':\n",
        "        if 'вшэ' in transfs['to_transform'][i][0].lower() or 'высшая школа экономики' in transfs['to_transform'][i][0].lower() or 'ниу вше' in transfs['to_transform'][i][0].lower():\n",
        "            transfs['new_name'][i] = 'Национальный исследовательский университет - Высшая Школа Экономики'\n",
        "            transfs['id'][i] = '421'\n",
        "\n",
        "#мгу\n",
        "for i in range(len(transfs['to_transform'])):\n",
        "    if transfs['id'][i] == '0':\n",
        "        if 'ломоносов' in transfs['to_transform'][i][0].lower():\n",
        "            transfs['new_name'][i] = 'Московский государственный университет им. М.В. Ломоносова'\n",
        "            transfs['id'][i] = '2541'\n",
        "\n",
        "#школа\n",
        "for i in range(len(transfs['to_transform'])):\n",
        "    if transfs['id'][i] == '0':\n",
        "        if 'общеобразовательная' in transfs['to_transform'][i][0].lower() or 'средняя' in transfs['to_transform'][i][0].lower() or 'мбоу' in transfs['to_transform'][i][0].lower() or '№' in transfs['to_transform'][i][0].lower():\n",
        "            transfs['new_name'][i] = 'СОШ (Школа)'\n",
        "            transfs['id'][i] = 'Sc'\n",
        "#ран\n",
        "for i in range(len(transfs['to_transform'])):\n",
        "    if transfs['id'][i] == '0':\n",
        "        if 'РАН' in transfs['to_transform'][i][0] or ('наук' in transfs['to_transform'][i][0].lower() and 'академ' in transfs['to_transform'][i][0].lower() and 'рос' in transfs['to_transform'][i][0].lower()):\n",
        "            transfs['new_name'][i] = 'РАН'\n",
        "            transfs['id'][i] = '1432'\n",
        "\n",
        "#мгимо\n",
        "for i in range(len(transfs['to_transform'])):\n",
        "    if transfs['id'][i] == '0':\n",
        "        if 'МГИМО' in transfs['to_transform'][i][0]:\n",
        "            transfs['new_name'][i] = 'МГИМО-Университет МИД России'\n",
        "            transfs['id'][i] = '901'\n",
        "\n",
        "#юфу\n",
        "for i in range(len(transfs['to_transform'])):\n",
        "    if transfs['id'][i] == '0':\n",
        "        if 'ЮФУ' in transfs['to_transform'][i][0]:\n",
        "            transfs['new_name'][i] = 'Южный федеральный университет'\n",
        "            transfs['id'][i] = '322'\n",
        "\n",
        "#спбгу\n",
        "for i in range(len(transfs['to_transform'])):\n",
        "    if transfs['id'][i] == '0':\n",
        "        if 'спбгу' in transfs['to_transform'][i][0].lower():\n",
        "            transfs['new_name'][i] = 'Санкт-Петербургский государственный университет (СПбГУ)'\n",
        "            transfs['id'][i] = '190'\n",
        "\n",
        "#фин\n",
        "for i in range(len(transfs['to_transform'])):\n",
        "    if transfs['id'][i] == '0':\n",
        "        if 'финансовый' in transfs['to_transform'][i][0].lower():\n",
        "            transfs['new_name'][i] = 'Финансовый Университет при Правительстве Российской Федерации'\n",
        "            transfs['id'][i] = '1074'\n",
        "\n",
        "#государство\n",
        "for i in range(len(transfs['to_transform'])):\n",
        "    if transfs['id'][i] == '0':\n",
        "        if 'правит' in transfs['to_transform'][i][0].lower() or ('совет' in transfs['to_transform'][i][0].lower() and 'фед' in transfs['to_transform'][i][0].lower()):\n",
        "            transfs['new_name'][i] = 'Государственные органы'\n",
        "            transfs['id'][i] = 'Gos'\n",
        "\n",
        "#гпу им. герцена\n",
        "for i in range(len(transfs['to_transform'])):\n",
        "    if transfs['id'][i] == '0':\n",
        "        if 'герцен' in transfs['to_transform'][i][0].lower():\n",
        "            transfs['new_name'][i] = 'Российский государственный педагогический университет им. А.И. Герцена'\n",
        "            transfs['id'][i] = '976'\n",
        "\n",
        "#юргпу\n",
        "for i in range(len(transfs['to_transform'])):\n",
        "    if transfs['id'][i] == '0':\n",
        "        if 'платов' in transfs['to_transform'][i][0].lower() or 'нпи' in transfs['to_transform'][i][0].lower():\n",
        "            transfs['new_name'][i] = 'Южно-Российский государственный политехнический университет (НПИ) имени М.И. Платова'\n",
        "            transfs['id'][i] = '633'\n",
        "\n",
        "#СВФУ\n",
        "for i in range(len(transfs['to_transform'])):\n",
        "    if transfs['id'][i] == '0':\n",
        "        if 'аммос' in transfs['to_transform'][i][0].lower():\n",
        "            transfs['new_name'][i] = 'Северо-Восточный федеральный университет им. М.К. Аммосова'\n",
        "            transfs['id'][i] = '252'\n",
        "\n",
        "#СарГУ им. Чернышевского\n",
        "for i in range(len(transfs['to_transform'])):\n",
        "    if transfs['id'][i] == '0':\n",
        "        if 'черныш' in transfs['to_transform'][i][0].lower():\n",
        "            transfs['new_name'][i] = 'Саратовский государственный национальный исследовательский университет им. Н.Г. Чернышевского'\n",
        "            transfs['id'][i] = '259'\n",
        "\n",
        "#МорГУ им. Огарёва\n",
        "for i in range(len(transfs['to_transform'])):\n",
        "    if transfs['id'][i] == '0':\n",
        "        if 'огарёв' in transfs['to_transform'][i][0].lower() or 'огарев' in transfs['to_transform'][i][0].lower():\n",
        "            transfs['new_name'][i] = 'Национальный исследовательский Мордовский государственный университет имени Н.П. Огарёва'\n",
        "            transfs['id'][i] = '400'\n",
        "\n",
        "#мгту баумана\n",
        "for i in range(len(transfs['to_transform'])):\n",
        "    if transfs['id'][i] == '0':\n",
        "        if 'бауман' in transfs['to_transform'][i][0].lower() or 'мгту' in transfs['to_transform'][i][0].lower():\n",
        "            transfs['new_name'][i] = 'МГТУ им. Н. Э. Баумана'\n",
        "            transfs['id'][i] = '665'\n",
        "\n",
        "#БелГТУ Шухова\n",
        "for i in range(len(transfs['to_transform'])):\n",
        "    if transfs['id'][i] == '0':\n",
        "        if 'шухов' in transfs['to_transform'][i][0].lower():\n",
        "            transfs['new_name'][i] = 'Белгородский Государственный Технологический Университет им. В.Г. Шухова'\n",
        "            transfs['id'][i] = '7113'"
      ],
      "metadata": {
        "id": "eXFW5uOZAmeP"
      },
      "execution_count": null,
      "outputs": []
    },
    {
      "cell_type": "code",
      "source": [
        "# словарь значений старое название: [новое название, новый id]\n",
        "trans = {}\n",
        "for i in range(len(transfs)):\n",
        "    trans[transfs['to_transform'][i][0]] = [[transfs['new_name'][i]], [transfs['id'][i]]]\n",
        "\n",
        "# проходимся по всему оригинальному датафрейму, в случае, меняем значения аффилиаций и id если находим их в нашем датафрейме для изменений\n",
        "for num in tqdm(range(1,9)):\n",
        "    for i in range(len(df)):\n",
        "        if df['author_{}_ru affiliation'.format(num)][i] in to_create:\n",
        "            try:\n",
        "                if trans[df['author_{}_ru affiliation'.format(num)][i][0]][0] != ['0']:\n",
        "                    df['author_{}_affiliation_id'.format(num)][i] = trans[df['author_{}_ru affiliation'.format(num)][i][0]][1]\n",
        "                    df['author_{}_ru affiliation'.format(num)][i] = trans[df['author_{}_ru affiliation'.format(num)][i][0]][0]\n",
        "            except:\n",
        "                    df['author_{}_affiliation_id'.format(num)][i] = '0'\n",
        "                    print([num, i, df['author_{}_ru affiliation'.format(num)][i]])"
      ],
      "metadata": {
        "id": "vGgxtJqlAmbO"
      },
      "execution_count": null,
      "outputs": []
    },
    {
      "cell_type": "code",
      "source": [
        "# обновляем значения измененных колонок в df\n",
        "for i in affiliations:\n",
        "    df[i] = af_train[i]"
      ],
      "metadata": {
        "id": "SN04e8PL8F6u"
      },
      "execution_count": null,
      "outputs": []
    },
    {
      "cell_type": "markdown",
      "source": [
        "# Шаг 4: Создание новых ID для авторов"
      ],
      "metadata": {
        "id": "6iVBJDya-Kz6"
      }
    },
    {
      "cell_type": "code",
      "source": [
        "def create_id(df, num):\n",
        "  '''\n",
        "  Эта функция принимает на вход датафрейм и номер (можно также заменить на название колонки)\n",
        "  Чтобы функция работала с любым датафреймом, достаточно заменить названия колонок в [] на соответствующие по смыслу в другой таблице\n",
        "  Оригинальные названия сохранены для понимания принципа работы функции и логики замены\n",
        "\n",
        "  df - pandas DataFrame\n",
        "  num - количество повторений (количество нумерованных колонок с id, максимальное количество авторов в базе)\n",
        "\n",
        "  Функция проводит изменения в оригинальном датафрейме\n",
        "  Если вы хотите оставить его неизменным и сохранить измененный df в новую переменную, стоит разкомментировать выход функции в конце\n",
        "  '''\n",
        "  for i in range(1, num+1):\n",
        "    inds = []\n",
        "    for i in tqdm(range(len(df))):\n",
        "        if df['author_{}_eng last name'.format(num)][i] != 'none':\n",
        "            try:\n",
        "                surname = df['author_{}_eng last name'.format(num)][i][:8]\n",
        "            except len(surname) < 8:\n",
        "                surname = df['author_{}_eng last name'.format(num)][i]\n",
        "        elif df['author_{}_eng last name'.format(num)][i] == 'none' and df['author_{}_ru last name'.format(num)][i] != 'none':\n",
        "            surname = translit(df['author_{}_ru last name'][i],\n",
        "                               'ru',\n",
        "                               reversed = True)\n",
        "        else:\n",
        "            ind = 'N/A'\n",
        "            inds.append(ind)\n",
        "            continue\n",
        "\n",
        "\n",
        "        ind = '_'.join([str(df['author_{}_id'.format(num)][i]),\n",
        "                        df['author_{}_eng initials'.format(num)][i].replace('.',''),\n",
        "                        surname,\n",
        "                        str(df['author_{}_affiliation_id'.format(num)][i][0]),\n",
        "                      ])\n",
        "        inds.append(ind)\n",
        "    df['new_id_{}'.format(num)] = inds\n",
        "  #return df"
      ],
      "metadata": {
        "id": "LgTSJgPR8gAq"
      },
      "execution_count": null,
      "outputs": []
    },
    {
      "cell_type": "code",
      "source": [
        "create_id(df, 9)"
      ],
      "metadata": {
        "id": "iKKfmsBw9xIr"
      },
      "execution_count": null,
      "outputs": []
    },
    {
      "cell_type": "code",
      "source": [
        "# объединяем все новые id в список уникальных значений\n",
        "all_new_ids = []\n",
        "for i in range(1,9):\n",
        "    all_new_ids += cop_df['new_id_{}'.format(i)].to_list()\n",
        "all_new_ids = list(set(all_new_ids))\n",
        "all_new_ids.remove('N/A') #удаляем филлерное значение из списка уникальных значений id"
      ],
      "metadata": {
        "id": "WjyE195s-bb9"
      },
      "execution_count": null,
      "outputs": []
    },
    {
      "cell_type": "markdown",
      "source": [
        "## Шаг 3.5: Дедупликация авторов по новым ID"
      ],
      "metadata": {
        "id": "qojmaTL1_LA7"
      }
    },
    {
      "cell_type": "code",
      "source": [
        "import jellyfish"
      ],
      "metadata": {
        "id": "g20Lr33q-_3X"
      },
      "execution_count": null,
      "outputs": []
    },
    {
      "cell_type": "code",
      "source": [
        "distances = {}\n",
        "for i in tqdm(all_new_ids):\n",
        "    for j in all_new_ids:\n",
        "        a = jellyfish.damerau_levenshtein_distance(i,j)\n",
        "        if 0 < a <= 4: #рассматриваем только те пары, где разница между строками <= 4 символам\n",
        "            distances[(i,j)] = a"
      ],
      "metadata": {
        "id": "-QI3aOWC_P4O"
      },
      "execution_count": null,
      "outputs": []
    },
    {
      "cell_type": "code",
      "source": [
        "sort_dist = dict(sorted(distances.items(), key=lambda item: item[1]))\n",
        "\n",
        "# в словаре ниже получаем пары строк и разницу между ними\n",
        "dist_to_sort = pd.DataFrame()\n",
        "dist_to_sort['vals'] = distances.keys()\n",
        "dist_to_sort['diff'] = distances.values()\n",
        "val1 = []\n",
        "val2 = []\n",
        "for i in range(len(dist_to_sort['vals'])):\n",
        "    dist_to_sort['vals'][i] = sorted(list(dist_to_sort['vals'][i]))\n",
        "    val1.append(dist_to_sort['vals'][i][0])\n",
        "    val2.append(dist_to_sort['vals'][i][1])\n",
        "dist_to_sort['val1'] = val1\n",
        "dist_to_sort['val2'] = val2"
      ],
      "metadata": {
        "id": "SxsiaCEh_erD"
      },
      "execution_count": null,
      "outputs": []
    }
  ],
  "metadata": {
    "kernelspec": {
      "display_name": "Python 3",
      "language": "python",
      "name": "python3"
    },
    "language_info": {
      "codemirror_mode": {
        "name": "ipython",
        "version": 3
      },
      "file_extension": ".py",
      "mimetype": "text/x-python",
      "name": "python",
      "nbconvert_exporter": "python",
      "pygments_lexer": "ipython3",
      "version": "3.7.4"
    },
    "colab": {
      "provenance": [],
      "collapsed_sections": [
        "FT8fSaQR2DoA",
        "1gpeOB3jylgd",
        "IFPqZ3n9ylge",
        "AXzUN9zYACC7"
      ]
    }
  },
  "nbformat": 4,
  "nbformat_minor": 0
}